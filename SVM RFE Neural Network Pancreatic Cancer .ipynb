{
 "cells": [
  {
   "cell_type": "markdown",
   "metadata": {},
   "source": [
    "<h1><center> Predicting Pancreatic Cancer Tumor Response to Gemcitabine with Neural Network Optimization </h1></center>\n",
    "\n",
    "\n",
    "<img src=\"http://kluwerpatentblog.com/wp-content/uploads/sites/52/2012/02/gemcitabine.gif\" style=\"height:250px\">"
   ]
  },
  {
   "cell_type": "markdown",
   "metadata": {},
   "source": [
    "## Import the necessary libraries"
   ]
  },
  {
   "cell_type": "code",
   "execution_count": 86,
   "metadata": {},
   "outputs": [],
   "source": [
    "from __future__ import absolute_import, division, print_function, unicode_literals\n",
    "import numpy as np\n",
    "import pandas as pd\n",
    "import scipy\n",
    "import sklearn\n",
    "from sklearn.preprocessing import StandardScaler\n",
    "\n",
    "import tensorflow as tf\n",
    "\n",
    "from tensorflow.keras import layers\n",
    "from tensorflow.keras.models import Sequential\n",
    "from tensorflow.keras.layers import Dense, Activation\n",
    "\n",
    "from sklearn.preprocessing import OneHotEncoder    \n",
    "from sklearn.metrics import accuracy_score\n",
    "from tensorflow.python.client import device_lib\n",
    "\n"
   ]
  },
  {
   "cell_type": "markdown",
   "metadata": {},
   "source": [
    "## Import the data and transpose\n",
    "\n",
    "Data were retrieved from [The Cancer Genome Atlas](\"https://portal.gdc.cancer.gov/projects/TCGA-PAAD\")\n",
    "\n",
    "- The transcriptome data (FPKM) data was used. \n",
    "- Subjects were selected if they were on the Gemcitabine Drug \n",
    "- Patients with a Stable or Clinically Progressive Disease Tumor were classified as Non Responders\n",
    "- Patients with a Complete or Partial Response were classified as Responders "
   ]
  },
  {
   "cell_type": "code",
   "execution_count": 87,
   "metadata": {},
   "outputs": [],
   "source": [
    "pd.read_csv(\"C:\\\\Users\\coder\\Desktop\\Cancer Data\\Panc Responders NonResponders Gemcitabine.csv\", header=0, low_memory=False).T.to_csv('C:\\\\Users\\coder\\Desktop\\Cancer Data\\Panc Responders NonResponders Gemcitabine T.csv', header=False, index=False)\n",
    "df = pd.read_csv(\"C:\\\\Users\\coder\\Desktop\\Cancer Data\\Panc Responders NonResponders Gemcitabine T.csv\", low_memory = False)"
   ]
  },
  {
   "cell_type": "markdown",
   "metadata": {},
   "source": [
    "## Transform the categorial variables into digits and seperate the target from data frame "
   ]
  },
  {
   "cell_type": "code",
   "execution_count": 88,
   "metadata": {},
   "outputs": [
    {
     "name": "stdout",
     "output_type": "stream",
     "text": [
      "      Target       Cancer_Type  ENSG00000242268.2  ENSG00000270112.3  \\\n",
      "0  Responder  Ductal Neoplasm         1528.121743         106.015872   \n",
      "1  Responder  Ductal Neoplasm          354.349507         245.835597   \n",
      "2  Responder  Ductal Neoplasm         2324.176086           0.000000   \n",
      "3  Responder  Ductal Neoplasm            0.000000          89.124163   \n",
      "4  Responder  Ductal Neoplasm          339.897606          47.161872   \n",
      "\n",
      "   ENSG00000167578.15  ENSG00000273842.1  ENSG00000078237.5  \\\n",
      "0         62143.74692                  0        94660.89880   \n",
      "1         50547.68254                  0        80811.14588   \n",
      "2        187042.45300                  0        57179.88270   \n",
      "3        196458.72150                  0        75731.48091   \n",
      "4         79563.83910                  0       118148.99240   \n",
      "\n",
      "   ENSG00000146083.10  ENSG00000225275.4  ENSG00000158486.12  ...  \\\n",
      "0         409162.6952                  0         3191.077740  ...   \n",
      "1         230163.1523                  0         1547.199856  ...   \n",
      "2         348837.8863                  0         2950.662709  ...   \n",
      "3         326163.1953                  0        14510.629020  ...   \n",
      "4         296798.4701                  0        14518.353610  ...   \n",
      "\n",
      "   ENSG00000009694.12  ENSG00000238244.3  ENSG00000186115.11  \\\n",
      "0          904.419135                  0          172.655384   \n",
      "1         4584.616586                  0        26183.744510   \n",
      "2          991.685707                  0          656.494675   \n",
      "3          388.999050                  0         1016.021129   \n",
      "4          729.820464                  0         2688.241735   \n",
      "\n",
      "   ENSG00000216352.1  ENSG00000267117.1  ENSG00000273233.1  \\\n",
      "0                0.0        1230.120670           0.000000   \n",
      "1                0.0        2281.978684           0.000000   \n",
      "2                0.0        9354.676965        4842.033515   \n",
      "3                0.0       16545.971590        2141.072021   \n",
      "4                0.0        2736.137183        1132.992016   \n",
      "\n",
      "   ENSG00000105063.17  ENSG00000231119.2  ENSG00000280861.1  ENSG00000123685.7  \n",
      "0         271736.0484        1949.221060                  0        12697.26656  \n",
      "1         476194.4927        1947.061421                  0        16228.50217  \n",
      "2         634447.4641        1596.345373                  0        17791.12673  \n",
      "3         599589.6066        2520.996920                  0        12271.11276  \n",
      "4         425796.2328         933.825927                  0        30332.69786  \n",
      "\n",
      "[5 rows x 60484 columns]\n"
     ]
    }
   ],
   "source": [
    "#Save the data frame and pop the \n",
    "\n",
    "print(df.head())\n",
    "df.dtypes \n",
    "df['Target'] = pd.Categorical(df['Target'])\n",
    "df['Target'] = df.Target.cat.codes\n",
    "df['Cancer_Type'] = pd.Categorical(df['Cancer_Type'])\n",
    "df['Cancer_Type'] = df.Cancer_Type.cat.codes\n",
    "target = df.pop(\"Target\")\n",
    "X = df.iloc[:,0:len(df.columns)].values\n",
    "\n"
   ]
  },
  {
   "cell_type": "markdown",
   "metadata": {},
   "source": [
    "## Normalize the data "
   ]
  },
  {
   "cell_type": "code",
   "execution_count": 89,
   "metadata": {},
   "outputs": [],
   "source": [
    "#Normalizing the data\n",
    "\n",
    "sc = StandardScaler()\n",
    "X = sc.fit_transform(X)\n"
   ]
  },
  {
   "cell_type": "markdown",
   "metadata": {},
   "source": [
    "## Use SVM-RFE to select the top 100 Features\n"
   ]
  },
  {
   "cell_type": "code",
   "execution_count": 90,
   "metadata": {},
   "outputs": [],
   "source": [
    "from sklearn.svm import LinearSVC\n",
    "from sklearn.feature_selection import RFE\n",
    "\n",
    "svm = LinearSVC()\n",
    "rfe = RFE(svm, 100, step = 0.5)\n",
    "rfe = rfe.fit(X, target)\n",
    "selected_features = rfe.transform(X)\n",
    "\n",
    "\n"
   ]
  },
  {
   "cell_type": "markdown",
   "metadata": {},
   "source": [
    "## Make the target data into a 2D matrix for the network "
   ]
  },
  {
   "cell_type": "code",
   "execution_count": 93,
   "metadata": {},
   "outputs": [],
   "source": [
    "ohe = OneHotEncoder(categories = 'auto')\n",
    "Y = target.values.reshape(-1,1)\n",
    "Y = ohe.fit_transform(Y).toarray()"
   ]
  },
  {
   "cell_type": "markdown",
   "metadata": {},
   "source": [
    "## Make the Neural Network \n",
    "\n",
    "The network consists of a \n",
    "- 100 node input layer with Xavier initialized weights \n",
    "- A 32 node hidden layer \n",
    "- The final 2 node output layer "
   ]
  },
  {
   "cell_type": "code",
   "execution_count": 94,
   "metadata": {},
   "outputs": [],
   "source": [
    "def makeModel():\n",
    "\n",
    "    model = Sequential([\n",
    "        layers.Dense(100, input_shape = (100,), kernel_initializer = \"glorot_normal\" , activation ='relu', ),\n",
    "        layers.Dense(32, activation = 'relu'),\n",
    "        layers.Dense(2, activation = 'relu')\n",
    "        ])\n",
    "    \n",
    "    return model\n",
    "\n"
   ]
  },
  {
   "cell_type": "markdown",
   "metadata": {},
   "source": [
    "## Initialize an instance of the model and record output \n",
    "\n",
    "\n",
    "\n",
    "\n"
   ]
  },
  {
   "cell_type": "code",
   "execution_count": 96,
   "metadata": {},
   "outputs": [
    {
     "name": "stdout",
     "output_type": "stream",
     "text": [
      "Train on 45 samples, validate on 6 samples\n",
      "Epoch 1/25\n",
      "45/45 [==============================] - 0s 4ms/sample - loss: 6.1731 - acc: 0.5111 - val_loss: 3.0512 - val_acc: 0.5833\n",
      "Epoch 2/25\n",
      "45/45 [==============================] - 0s 222us/sample - loss: 4.8179 - acc: 0.6222 - val_loss: 0.3278 - val_acc: 0.8333\n",
      "Epoch 3/25\n",
      "45/45 [==============================] - 0s 222us/sample - loss: 3.8937 - acc: 0.6889 - val_loss: 0.0654 - val_acc: 1.0000\n",
      "Epoch 4/25\n",
      "45/45 [==============================] - 0s 200us/sample - loss: 3.5364 - acc: 0.7444 - val_loss: 0.0000e+00 - val_acc: 1.0000\n",
      "Epoch 5/25\n",
      "45/45 [==============================] - 0s 177us/sample - loss: 3.3094 - acc: 0.7778 - val_loss: 0.0000e+00 - val_acc: 1.0000\n",
      "Epoch 6/25\n",
      "45/45 [==============================] - 0s 222us/sample - loss: 3.1317 - acc: 0.7889 - val_loss: 0.0000e+00 - val_acc: 1.0000\n",
      "Epoch 7/25\n",
      "45/45 [==============================] - 0s 177us/sample - loss: 2.6798 - acc: 0.8000 - val_loss: 0.0020 - val_acc: 1.0000\n",
      "Epoch 8/25\n",
      "45/45 [==============================] - 0s 222us/sample - loss: 1.9783 - acc: 0.8444 - val_loss: 0.0100 - val_acc: 1.0000\n",
      "Epoch 9/25\n",
      "45/45 [==============================] - 0s 199us/sample - loss: 1.3224 - acc: 0.8778 - val_loss: 0.0235 - val_acc: 1.0000\n",
      "Epoch 10/25\n",
      "45/45 [==============================] - 0s 200us/sample - loss: 0.9078 - acc: 0.9222 - val_loss: 0.0413 - val_acc: 1.0000\n",
      "Epoch 11/25\n",
      "45/45 [==============================] - 0s 221us/sample - loss: 0.5598 - acc: 0.9444 - val_loss: 0.0648 - val_acc: 1.0000\n",
      "Epoch 12/25\n",
      "45/45 [==============================] - 0s 200us/sample - loss: 0.5283 - acc: 0.9667 - val_loss: 0.0733 - val_acc: 0.9167\n",
      "Epoch 13/25\n",
      "45/45 [==============================] - 0s 200us/sample - loss: 0.2384 - acc: 0.9667 - val_loss: 0.0786 - val_acc: 0.9167\n",
      "Epoch 14/25\n",
      "45/45 [==============================] - 0s 199us/sample - loss: 0.1954 - acc: 0.9778 - val_loss: 0.0821 - val_acc: 0.9167\n",
      "Epoch 15/25\n",
      "45/45 [==============================] - 0s 178us/sample - loss: 0.1795 - acc: 0.9889 - val_loss: 0.0759 - val_acc: 0.9167\n",
      "Epoch 16/25\n",
      "45/45 [==============================] - 0s 200us/sample - loss: 0.1739 - acc: 0.9889 - val_loss: 0.0690 - val_acc: 0.9167\n",
      "Epoch 17/25\n",
      "45/45 [==============================] - 0s 199us/sample - loss: 0.1723 - acc: 0.9889 - val_loss: 0.0619 - val_acc: 0.9167\n",
      "Epoch 18/25\n",
      "45/45 [==============================] - 0s 199us/sample - loss: 0.1715 - acc: 0.9889 - val_loss: 0.0587 - val_acc: 0.9167\n",
      "Epoch 19/25\n",
      "45/45 [==============================] - 0s 222us/sample - loss: 0.1714 - acc: 0.9889 - val_loss: 0.0567 - val_acc: 1.0000\n",
      "Epoch 20/25\n",
      "45/45 [==============================] - 0s 199us/sample - loss: 0.1714 - acc: 0.9889 - val_loss: 0.0556 - val_acc: 1.0000\n",
      "Epoch 21/25\n",
      "45/45 [==============================] - 0s 199us/sample - loss: 0.1714 - acc: 0.9889 - val_loss: 0.0549 - val_acc: 1.0000\n",
      "Epoch 22/25\n",
      "45/45 [==============================] - 0s 202us/sample - loss: 0.1714 - acc: 0.9889 - val_loss: 0.0545 - val_acc: 1.0000\n",
      "Epoch 23/25\n",
      "45/45 [==============================] - 0s 206us/sample - loss: 0.1714 - acc: 0.9889 - val_loss: 0.0542 - val_acc: 1.0000\n",
      "Epoch 24/25\n",
      "45/45 [==============================] - 0s 188us/sample - loss: 0.1714 - acc: 0.9889 - val_loss: 0.0541 - val_acc: 1.0000\n",
      "Epoch 25/25\n",
      "45/45 [==============================] - 0s 202us/sample - loss: 0.1714 - acc: 0.9889 - val_loss: 0.0540 - val_acc: 1.0000\n"
     ]
    }
   ],
   "source": [
    "neuralNetwork = makeModel()\n",
    "\n",
    "neuralNetwork.compile(loss = 'binary_crossentropy', optimizer='adam', metrics=['accuracy'])\n",
    "\n",
    "history = neuralNetwork.fit(selected_features, Y, batch_size = 10 ,  epochs=25, verbose = 1, validation_split = 0.1)\n"
   ]
  },
  {
   "cell_type": "markdown",
   "metadata": {},
   "source": [
    "## Resources "
   ]
  },
  {
   "cell_type": "markdown",
   "metadata": {},
   "source": [
    "- https://www.nature.com/articles/s41598-018-34753-5"
   ]
  },
  {
   "cell_type": "code",
   "execution_count": null,
   "metadata": {},
   "outputs": [],
   "source": []
  },
  {
   "cell_type": "code",
   "execution_count": null,
   "metadata": {},
   "outputs": [],
   "source": []
  }
 ],
 "metadata": {
  "kernelspec": {
   "display_name": "TensorFlow",
   "language": "python",
   "name": "tensorflow"
  },
  "language_info": {
   "codemirror_mode": {
    "name": "ipython",
    "version": 3
   },
   "file_extension": ".py",
   "mimetype": "text/x-python",
   "name": "python",
   "nbconvert_exporter": "python",
   "pygments_lexer": "ipython3",
   "version": "3.7.5"
  }
 },
 "nbformat": 4,
 "nbformat_minor": 2
}
